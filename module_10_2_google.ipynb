{
  "nbformat": 4,
  "nbformat_minor": 0,
  "metadata": {
    "colab": {
      "provenance": [],
      "authorship_tag": "ABX9TyOOSrbt82/B7MksUu0TZdFz",
      "include_colab_link": true
    },
    "kernelspec": {
      "name": "python3",
      "display_name": "Python 3"
    },
    "language_info": {
      "name": "python"
    }
  },
  "cells": [
    {
      "cell_type": "markdown",
      "metadata": {
        "id": "view-in-github",
        "colab_type": "text"
      },
      "source": [
        "<a href=\"https://colab.research.google.com/github/santfan/module_10/blob/main/module_10_2_google.ipynb\" target=\"_parent\"><img src=\"https://colab.research.google.com/assets/colab-badge.svg\" alt=\"Open In Colab\"/></a>"
      ]
    },
    {
      "cell_type": "code",
      "execution_count": null,
      "metadata": {
        "id": "GwQK_yHjh1ml"
      },
      "outputs": [],
      "source": []
    },
    {
      "cell_type": "markdown",
      "source": [
        "# Проработка лекции \"Потоки на классах\""
      ],
      "metadata": {
        "id": "d8xIvXtBh_Q1"
      }
    },
    {
      "cell_type": "code",
      "source": [
        "# Имрортируем нужные библиотнеи\n",
        "import threading\n",
        "import time"
      ],
      "metadata": {
        "id": "nMd88BjoiHv7"
      },
      "execution_count": null,
      "outputs": []
    },
    {
      "cell_type": "code",
      "source": [
        "# # Создадим собственный класс управления потоками\n",
        "# class MyThread(threading.Thread):\n",
        "#   # Инициация потоков несколько отличается от обычной инициации классов\n",
        "#   def __init__(self, name):\n",
        "#     threading.Thread.__init__(self)\n",
        "#     self.name = name\n",
        "\n",
        "\n",
        "#   # Далее переопределение методов\n",
        "#   def run(self):\n",
        "#     print(f'Поток {self.name} запущен')\n",
        "#     print(f'Поток {self.name} завершен')"
      ],
      "metadata": {
        "id": "itpMiRzzjIrt"
      },
      "execution_count": null,
      "outputs": []
    },
    {
      "cell_type": "code",
      "source": [
        "# Чтобы что то происходило в потоках изменим содержимое класса\n",
        "class MyThread(threading.Thread):\n",
        "# Инициация потоков несколько отличается от обычной инициации классов\n",
        "    def __init__(self, name, counter, delay):\n",
        "        threading.Thread.__init__(self)\n",
        "        self.name = name\n",
        "        self.counter = counter\n",
        "        self.delay = delay\n",
        "# Создадим обычный таймер\n",
        "    def timer(self, name, counter, delay):\n",
        "        while counter:\n",
        "          time.sleep(delay)\n",
        "          print(f'{name} {time.ctime(time.time())}')\n",
        "          counter -= 1\n",
        "# Далее переопределение методов\n",
        "    def run(self):\n",
        "      print(f'Поток {self.name} запущен')\n",
        "      self.timer(self.name, self.counter, self.delay)\n",
        "      print(f'Поток {self.name} завершен')"
      ],
      "metadata": {
        "id": "qs1qUrJ-pFPp"
      },
      "execution_count": null,
      "outputs": []
    },
    {
      "cell_type": "code",
      "source": [
        "# Создадим два объекта класса\n",
        "thread_1 = MyThread('thread_1', 5, 1)\n",
        "thread_2 = MyThread('thread_2', 3, 0.5)"
      ],
      "metadata": {
        "id": "Vexe85Bal945"
      },
      "execution_count": null,
      "outputs": []
    },
    {
      "cell_type": "code",
      "source": [
        "# Стартуем потоки\n",
        "thread_1.start()\n",
        "thread_2.start()\n",
        "\n",
        "thread_1.join()\n",
        "thread_2.join()"
      ],
      "metadata": {
        "colab": {
          "base_uri": "https://localhost:8080/"
        },
        "id": "zoYtTKb_mhZH",
        "outputId": "70b10507-aa14-4539-f1d6-4603a93db263"
      },
      "execution_count": null,
      "outputs": [
        {
          "output_type": "stream",
          "name": "stdout",
          "text": [
            "Поток thread_1 запущен\n",
            "Поток thread_2 запущен\n",
            "thread_2 Thu Nov 28 08:14:40 2024\n",
            "thread_1 Thu Nov 28 08:14:40 2024\n",
            "thread_2 Thu Nov 28 08:14:40 2024\n",
            "thread_2 Thu Nov 28 08:14:41 2024\n",
            "Поток thread_2 завершен\n",
            "thread_1 Thu Nov 28 08:14:41 2024\n",
            "thread_1 Thu Nov 28 08:14:42 2024\n",
            "thread_1 Thu Nov 28 08:14:43 2024\n",
            "thread_1 Thu Nov 28 08:14:44 2024\n",
            "Поток thread_1 завершен\n"
          ]
        }
      ]
    },
    {
      "cell_type": "markdown",
      "source": [
        "# Дломашняя работа \"Потоки в классах\""
      ],
      "metadata": {
        "id": "KZB-Dx2e2x0t"
      }
    },
    {
      "cell_type": "code",
      "source": [
        "# Импортируем библиотеки\n",
        "import threading\n",
        "import time"
      ],
      "metadata": {
        "id": "tEQ7J-ZqnhWv"
      },
      "execution_count": 14,
      "outputs": []
    },
    {
      "cell_type": "code",
      "source": [
        "# Создадим класс управления потоками\n",
        "class Knight(threading.Thread):\n",
        "    # Инициируем класс-поток\n",
        "    def __init__(self, name, power):\n",
        "        threading.Thread.__init__(self)\n",
        "        self.name = name\n",
        "        self.power = power\n",
        "        self.days = 0\n",
        "     # Функция Битвы\n",
        "    def fight(self, remaining_enemies = 100):\n",
        "      while remaining_enemies > 0:\n",
        "            self.days += 1\n",
        "            remaining_enemies -= self.power\n",
        "            print(f\"{self.name}, сражается {self.days} день(дня)..., осталось {remaining_enemies} воинов.\")\n",
        "            time.sleep(1)\n",
        "    # Функция старта\n",
        "    def run(self):\n",
        "        print(f\"{self.name}, на нас напали!\")\n",
        "        # Вызов функции битвы\n",
        "        self.fight()\n",
        "        print(f\"{self.name} одержал победу спустя {self.days} дней(дня)!\")"
      ],
      "metadata": {
        "id": "Aab9oyM4VUZD"
      },
      "execution_count": 15,
      "outputs": []
    },
    {
      "cell_type": "code",
      "source": [
        "# Создадим объекты\n",
        "first_knight = Knight(\"Sir Lancelot\", 10)\n",
        "second_knight = Knight(\"Sir Galahad\", 20)"
      ],
      "metadata": {
        "id": "gpsvRp0E3_yy"
      },
      "execution_count": 16,
      "outputs": []
    },
    {
      "cell_type": "code",
      "source": [
        "# Старт потоков\n",
        "first_knight.start()\n",
        "second_knight .start()\n",
        "\n",
        "first_knight.join()\n",
        "second_knight .join()\n",
        "# Проверка работает ли хотя бы один поток\n",
        "if not (first_knight.is_alive()) and not(second_knight.is_alive()):\n",
        "  print('Все битвы закончены')"
      ],
      "metadata": {
        "colab": {
          "base_uri": "https://localhost:8080/"
        },
        "id": "5m3TBki34gE7",
        "outputId": "0f87a0d7-a5ad-4811-9931-a98efd5393f7"
      },
      "execution_count": 17,
      "outputs": [
        {
          "output_type": "stream",
          "name": "stdout",
          "text": [
            "Sir Lancelot, на нас напали!Sir Galahad, на нас напали!\n",
            "Sir Galahad, сражается 1 день(дня)..., осталось 80 воинов.\n",
            "\n",
            "Sir Lancelot, сражается 1 день(дня)..., осталось 90 воинов.\n",
            "Sir Galahad, сражается 2 день(дня)..., осталось 60 воинов.\n",
            "Sir Lancelot, сражается 2 день(дня)..., осталось 80 воинов.\n",
            "Sir Galahad, сражается 3 день(дня)..., осталось 40 воинов.\n",
            "Sir Lancelot, сражается 3 день(дня)..., осталось 70 воинов.\n",
            "Sir Galahad, сражается 4 день(дня)..., осталось 20 воинов.\n",
            "Sir Lancelot, сражается 4 день(дня)..., осталось 60 воинов.\n",
            "Sir Galahad, сражается 5 день(дня)..., осталось 0 воинов.\n",
            "Sir Lancelot, сражается 5 день(дня)..., осталось 50 воинов.\n",
            "Sir Galahad одержал победу спустя 5 дней(дня)!\n",
            "Sir Lancelot, сражается 6 день(дня)..., осталось 40 воинов.\n",
            "Sir Lancelot, сражается 7 день(дня)..., осталось 30 воинов.\n",
            "Sir Lancelot, сражается 8 день(дня)..., осталось 20 воинов.\n",
            "Sir Lancelot, сражается 9 день(дня)..., осталось 10 воинов.\n",
            "Sir Lancelot, сражается 10 день(дня)..., осталось 0 воинов.\n",
            "Sir Lancelot одержал победу спустя 10 дней(дня)!\n",
            "все битвы закончены\n"
          ]
        }
      ]
    },
    {
      "cell_type": "code",
      "source": [],
      "metadata": {
        "id": "sKut5Wvx43DB"
      },
      "execution_count": null,
      "outputs": []
    }
  ]
}