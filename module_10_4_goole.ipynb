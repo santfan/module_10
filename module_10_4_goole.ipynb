{
  "nbformat": 4,
  "nbformat_minor": 0,
  "metadata": {
    "colab": {
      "provenance": [],
      "authorship_tag": "ABX9TyO+j7Q6E3XTmmpR57MhzyAn",
      "include_colab_link": true
    },
    "kernelspec": {
      "name": "python3",
      "display_name": "Python 3"
    },
    "language_info": {
      "name": "python"
    }
  },
  "cells": [
    {
      "cell_type": "markdown",
      "metadata": {
        "id": "view-in-github",
        "colab_type": "text"
      },
      "source": [
        "<a href=\"https://colab.research.google.com/github/santfan/module_10/blob/main/module_10_4_goole.ipynb\" target=\"_parent\"><img src=\"https://colab.research.google.com/assets/colab-badge.svg\" alt=\"Open In Colab\"/></a>"
      ]
    },
    {
      "cell_type": "markdown",
      "source": [
        "# Домашняя работа по теме \"Очереди в потоках\""
      ],
      "metadata": {
        "id": "OkuVKH061J-a"
      }
    },
    {
      "cell_type": "code",
      "source": [
        "# Импортируем нужные библиотеки\n",
        "import threading\n",
        "import time\n",
        "from queue import Queue\n",
        "import random"
      ],
      "metadata": {
        "id": "o3GjXwLnPRLD"
      },
      "execution_count": 3,
      "outputs": []
    },
    {
      "cell_type": "code",
      "source": [
        "# Создадим классы\n",
        "class Cafe:\n",
        "  # Пустой список потоков\n",
        "  threads = []\n",
        "  # инициация параметров\n",
        "  def __init__(self, *tables) -> None:\n",
        "    self.tables = list(tables)\n",
        "    self.q = Queue()\n",
        "\n",
        "  # Рассадим гостей за столы\n",
        "  def guest_arrival(self, *guests):\n",
        "    guests = list(guests)\n",
        "    # пробежим по списку столов\n",
        "    for i in range(len(self.tables)):\n",
        "      # займем стол\n",
        "      self.tables[i].guest = guests[i]\n",
        "      # поток\n",
        "      th = guests[i]\n",
        "      # добавим поток в список потоков\n",
        "      self.threads.append(th)\n",
        "      # Стартуем поток\n",
        "      th.start()\n",
        "      # Сообщим о посадке\n",
        "      print(f'{guests[i].name} сел(-а) за стол номер {self.tables[i].number}')\n",
        "    # Если посетителей больше\n",
        "    if len(guests) > len(self.tables):\n",
        "      # Поставим осиавшихся гостей в очередь\n",
        "      for j in range(len(self.tables), len(guests)):\n",
        "        self.q.put(guests[j])\n",
        "        # Сообщим что гость в очереди\n",
        "        print(f'{guests[j]} в очереди')\n",
        "\n",
        "  # Функция обслуживания\n",
        "  def discuss_guests(self):\n",
        "    # До тех пор пока очередь НЕ пуста или за столом кто то сидит\n",
        "    while not self.q.empty() or any(table.guest for table in self.tables):\n",
        "      # Пробежим по столам списка столов\n",
        "      for table in self.tables:\n",
        "        # Если стол занят но поток завершен (гость покушал)\n",
        "        if not table.guest is None and not table.guest.is_alive():\n",
        "          # Известим что гость покушал\n",
        "          print(f'{table.guest} покушал(-а) и ушел(ушла).')\n",
        "          # Освободим стол\n",
        "          print(f'Стол {table.number} свободен')\n",
        "          table.guest = None\n",
        "        # Если очередь не пуста и есть свободный стол\n",
        "        if not self.q.empty() and table.guest is None:\n",
        "          # Возмем гостя из очереди и усадим за стол\n",
        "          table.guest = self.q.get()\n",
        "          print(f'{table.guest} вышел(-ла) из очереди и сел(-а) за стол номер {table.number}')\n",
        "          # Сформируем поток\n",
        "          th = table.guest\n",
        "          # Стартанем поток\n",
        "          th.start()\n",
        "          # Добавим поток в список\n",
        "          self.threads.append(th)\n",
        "# Класс столов\n",
        "class Table:\n",
        "  def __init__(self, number):\n",
        "    self.number = number\n",
        "    self.quest = None\n",
        "# Класс потоков\n",
        "class Guest(threading.Thread):\n",
        "  def __init__(self, name):\n",
        "    threading.Thread.__init__(self)\n",
        "    self.name = name\n",
        "\n",
        "  def run(self):\n",
        "    time.sleep(random.randint(1, 6))\n",
        "\n",
        "  def __str__(self):\n",
        "    return self.name"
      ],
      "metadata": {
        "id": "WSewZCf21Xk8"
      },
      "execution_count": 35,
      "outputs": []
    },
    {
      "cell_type": "code",
      "source": [
        "# Создание столов\n",
        "tables = [Table(number) for number in range(1, 6)]"
      ],
      "metadata": {
        "id": "EM4NdieROGKj"
      },
      "execution_count": 49,
      "outputs": []
    },
    {
      "cell_type": "code",
      "source": [
        "# Имена гостей\n",
        "guests_names = [\n",
        "    'Maria', 'Oleg', 'Vakhtang', 'Sergey', 'Darya', 'Arman',\n",
        "    'Vitoria', 'Nikita', 'Galina', 'Pavel', 'Ilya', 'Alexandra'\n",
        "]"
      ],
      "metadata": {
        "id": "R5tmjXchOPXO"
      },
      "execution_count": 50,
      "outputs": []
    },
    {
      "cell_type": "code",
      "source": [
        "# Создание гостей\n",
        "guests = [Guest(name) for name in guests_names]"
      ],
      "metadata": {
        "id": "0Rc3tEdBOYSJ"
      },
      "execution_count": 51,
      "outputs": []
    },
    {
      "cell_type": "code",
      "source": [
        "# Заполнение кафе столами\n",
        "cafe = Cafe(*tables)"
      ],
      "metadata": {
        "id": "Pa0frUmnOp4U"
      },
      "execution_count": 52,
      "outputs": []
    },
    {
      "cell_type": "code",
      "source": [
        "# Приём гостей\n",
        "cafe.guest_arrival(*guests)"
      ],
      "metadata": {
        "colab": {
          "base_uri": "https://localhost:8080/"
        },
        "id": "tOvt-U0BOyup",
        "outputId": "fb72efad-8e34-4df0-f2dc-ae9e30940d5f"
      },
      "execution_count": 53,
      "outputs": [
        {
          "output_type": "stream",
          "name": "stdout",
          "text": [
            "Maria сел(-а) за стол номер 1\n",
            "Oleg сел(-а) за стол номер 2\n",
            "Vakhtang сел(-а) за стол номер 3\n",
            "Sergey сел(-а) за стол номер 4\n",
            "Darya сел(-а) за стол номер 5\n",
            "Arman в очереди\n",
            "Vitoria в очереди\n",
            "Nikita в очереди\n",
            "Galina в очереди\n",
            "Pavel в очереди\n",
            "Ilya в очереди\n",
            "Alexandra в очереди\n"
          ]
        }
      ]
    },
    {
      "cell_type": "code",
      "source": [
        "# Обслуживание гостей\n",
        "cafe.discuss_guests()"
      ],
      "metadata": {
        "colab": {
          "base_uri": "https://localhost:8080/"
        },
        "id": "KoM3vjPMO4Qz",
        "outputId": "c8b8302a-dbd1-4c05-fa90-ee0cf644456e"
      },
      "execution_count": 54,
      "outputs": [
        {
          "output_type": "stream",
          "name": "stdout",
          "text": [
            "Vakhtang покушал(-а) и ушел(ушла).\n",
            "Стол 3 свободен\n",
            "Arman вышел(-ла) из очереди и сел(-а) за стол номер 3\n",
            "Sergey покушал(-а) и ушел(ушла).\n",
            "Стол 4 свободен\n",
            "Vitoria вышел(-ла) из очереди и сел(-а) за стол номер 4\n",
            "Darya покушал(-а) и ушел(ушла).\n",
            "Стол 5 свободен\n",
            "Nikita вышел(-ла) из очереди и сел(-а) за стол номер 5\n",
            "Oleg покушал(-а) и ушел(ушла).\n",
            "Стол 2 свободен\n",
            "Galina вышел(-ла) из очереди и сел(-а) за стол номер 2\n",
            "Vitoria покушал(-а) и ушел(ушла).\n",
            "Стол 4 свободен\n",
            "Pavel вышел(-ла) из очереди и сел(-а) за стол номер 4\n",
            "Nikita покушал(-а) и ушел(ушла).\n",
            "Стол 5 свободен\n",
            "Ilya вышел(-ла) из очереди и сел(-а) за стол номер 5\n",
            "Maria покушал(-а) и ушел(ушла).\n",
            "Стол 1 свободен\n",
            "Alexandra вышел(-ла) из очереди и сел(-а) за стол номер 1\n",
            "Arman покушал(-а) и ушел(ушла).\n",
            "Стол 3 свободен\n",
            "Ilya покушал(-а) и ушел(ушла).\n",
            "Стол 5 свободен\n",
            "Alexandra покушал(-а) и ушел(ушла).\n",
            "Стол 1 свободен\n",
            "Pavel покушал(-а) и ушел(ушла).\n",
            "Стол 4 свободен\n",
            "Galina покушал(-а) и ушел(ушла).\n",
            "Стол 2 свободен\n"
          ]
        }
      ]
    },
    {
      "cell_type": "code",
      "source": [],
      "metadata": {
        "id": "2d7Uk9NSQ72a"
      },
      "execution_count": null,
      "outputs": []
    },
    {
      "cell_type": "markdown",
      "source": [
        "# Проработка лекции \"Очереди в потоках\""
      ],
      "metadata": {
        "id": "p-PZ06JN4MOP"
      }
    },
    {
      "cell_type": "code",
      "execution_count": null,
      "metadata": {
        "id": "B-5_VLS64LTW"
      },
      "outputs": [],
      "source": [
        "# Импортируем нужные библиотеки\n",
        "from queue import Queue"
      ]
    },
    {
      "cell_type": "code",
      "source": [
        "# Создадим очередь\n",
        "q = Queue()\n",
        "# Выведем очередь она у нас пустая\n",
        "print(q.get())\n",
        "print('Конец программы')"
      ],
      "metadata": {
        "colab": {
          "base_uri": "https://localhost:8080/",
          "height": 338
        },
        "id": "qOyneu2Y4zCq",
        "outputId": "ded59a15-727f-4b76-89d5-8b887ee4a536"
      },
      "execution_count": null,
      "outputs": [
        {
          "output_type": "error",
          "ename": "KeyboardInterrupt",
          "evalue": "",
          "traceback": [
            "\u001b[0;31m---------------------------------------------------------------------------\u001b[0m",
            "\u001b[0;31mKeyboardInterrupt\u001b[0m                         Traceback (most recent call last)",
            "\u001b[0;32m<ipython-input-3-bed8ba4e0da1>\u001b[0m in \u001b[0;36m<cell line: 4>\u001b[0;34m()\u001b[0m\n\u001b[1;32m      2\u001b[0m \u001b[0mq\u001b[0m \u001b[0;34m=\u001b[0m \u001b[0mQueue\u001b[0m\u001b[0;34m(\u001b[0m\u001b[0;34m)\u001b[0m\u001b[0;34m\u001b[0m\u001b[0;34m\u001b[0m\u001b[0m\n\u001b[1;32m      3\u001b[0m \u001b[0;31m# Выведем очередь она у нас пустая\u001b[0m\u001b[0;34m\u001b[0m\u001b[0;34m\u001b[0m\u001b[0m\n\u001b[0;32m----> 4\u001b[0;31m \u001b[0mprint\u001b[0m\u001b[0;34m(\u001b[0m\u001b[0mq\u001b[0m\u001b[0;34m.\u001b[0m\u001b[0mget\u001b[0m\u001b[0;34m(\u001b[0m\u001b[0;34m)\u001b[0m\u001b[0;34m)\u001b[0m\u001b[0;34m\u001b[0m\u001b[0;34m\u001b[0m\u001b[0m\n\u001b[0m\u001b[1;32m      5\u001b[0m \u001b[0mprint\u001b[0m\u001b[0;34m(\u001b[0m\u001b[0;34m'Конец программы'\u001b[0m\u001b[0;34m)\u001b[0m\u001b[0;34m\u001b[0m\u001b[0;34m\u001b[0m\u001b[0m\n",
            "\u001b[0;32m/usr/lib/python3.10/queue.py\u001b[0m in \u001b[0;36mget\u001b[0;34m(self, block, timeout)\u001b[0m\n\u001b[1;32m    169\u001b[0m             \u001b[0;32melif\u001b[0m \u001b[0mtimeout\u001b[0m \u001b[0;32mis\u001b[0m \u001b[0;32mNone\u001b[0m\u001b[0;34m:\u001b[0m\u001b[0;34m\u001b[0m\u001b[0;34m\u001b[0m\u001b[0m\n\u001b[1;32m    170\u001b[0m                 \u001b[0;32mwhile\u001b[0m \u001b[0;32mnot\u001b[0m \u001b[0mself\u001b[0m\u001b[0;34m.\u001b[0m\u001b[0m_qsize\u001b[0m\u001b[0;34m(\u001b[0m\u001b[0;34m)\u001b[0m\u001b[0;34m:\u001b[0m\u001b[0;34m\u001b[0m\u001b[0;34m\u001b[0m\u001b[0m\n\u001b[0;32m--> 171\u001b[0;31m                     \u001b[0mself\u001b[0m\u001b[0;34m.\u001b[0m\u001b[0mnot_empty\u001b[0m\u001b[0;34m.\u001b[0m\u001b[0mwait\u001b[0m\u001b[0;34m(\u001b[0m\u001b[0;34m)\u001b[0m\u001b[0;34m\u001b[0m\u001b[0;34m\u001b[0m\u001b[0m\n\u001b[0m\u001b[1;32m    172\u001b[0m             \u001b[0;32melif\u001b[0m \u001b[0mtimeout\u001b[0m \u001b[0;34m<\u001b[0m \u001b[0;36m0\u001b[0m\u001b[0;34m:\u001b[0m\u001b[0;34m\u001b[0m\u001b[0;34m\u001b[0m\u001b[0m\n\u001b[1;32m    173\u001b[0m                 \u001b[0;32mraise\u001b[0m \u001b[0mValueError\u001b[0m\u001b[0;34m(\u001b[0m\u001b[0;34m\"'timeout' must be a non-negative number\"\u001b[0m\u001b[0;34m)\u001b[0m\u001b[0;34m\u001b[0m\u001b[0;34m\u001b[0m\u001b[0m\n",
            "\u001b[0;32m/usr/lib/python3.10/threading.py\u001b[0m in \u001b[0;36mwait\u001b[0;34m(self, timeout)\u001b[0m\n\u001b[1;32m    318\u001b[0m         \u001b[0;32mtry\u001b[0m\u001b[0;34m:\u001b[0m    \u001b[0;31m# restore state no matter what (e.g., KeyboardInterrupt)\u001b[0m\u001b[0;34m\u001b[0m\u001b[0;34m\u001b[0m\u001b[0m\n\u001b[1;32m    319\u001b[0m             \u001b[0;32mif\u001b[0m \u001b[0mtimeout\u001b[0m \u001b[0;32mis\u001b[0m \u001b[0;32mNone\u001b[0m\u001b[0;34m:\u001b[0m\u001b[0;34m\u001b[0m\u001b[0;34m\u001b[0m\u001b[0m\n\u001b[0;32m--> 320\u001b[0;31m                 \u001b[0mwaiter\u001b[0m\u001b[0;34m.\u001b[0m\u001b[0macquire\u001b[0m\u001b[0;34m(\u001b[0m\u001b[0;34m)\u001b[0m\u001b[0;34m\u001b[0m\u001b[0;34m\u001b[0m\u001b[0m\n\u001b[0m\u001b[1;32m    321\u001b[0m                 \u001b[0mgotit\u001b[0m \u001b[0;34m=\u001b[0m \u001b[0;32mTrue\u001b[0m\u001b[0;34m\u001b[0m\u001b[0;34m\u001b[0m\u001b[0m\n\u001b[1;32m    322\u001b[0m             \u001b[0;32melse\u001b[0m\u001b[0;34m:\u001b[0m\u001b[0;34m\u001b[0m\u001b[0;34m\u001b[0m\u001b[0m\n",
            "\u001b[0;31mKeyboardInterrupt\u001b[0m: "
          ]
        }
      ]
    },
    {
      "cell_type": "code",
      "source": [
        "# Очередь ждет пока туда что то положат что бы избежать бесконечного ожидания\n",
        "# Создадим очередь\n",
        "q = Queue()\n",
        "# Выведем очередь она у нас пустая с ождпнием 2 сек\n",
        "print(q.get(timeout=2))\n",
        "print('Конец программы')"
      ],
      "metadata": {
        "colab": {
          "base_uri": "https://localhost:8080/",
          "height": 314
        },
        "id": "F9tIryY05nUx",
        "outputId": "a3285162-05ca-43fa-929c-8835b19e9f81"
      },
      "execution_count": null,
      "outputs": [
        {
          "output_type": "error",
          "ename": "Empty",
          "evalue": "",
          "traceback": [
            "\u001b[0;31m---------------------------------------------------------------------------\u001b[0m",
            "\u001b[0;31mEmpty\u001b[0m                                     Traceback (most recent call last)",
            "\u001b[0;32m<ipython-input-4-3d9664076b98>\u001b[0m in \u001b[0;36m<cell line: 5>\u001b[0;34m()\u001b[0m\n\u001b[1;32m      3\u001b[0m \u001b[0mq\u001b[0m \u001b[0;34m=\u001b[0m \u001b[0mQueue\u001b[0m\u001b[0;34m(\u001b[0m\u001b[0;34m)\u001b[0m\u001b[0;34m\u001b[0m\u001b[0;34m\u001b[0m\u001b[0m\n\u001b[1;32m      4\u001b[0m \u001b[0;31m# Выведем очередь она у нас пустая с ождпнием 2 сек\u001b[0m\u001b[0;34m\u001b[0m\u001b[0;34m\u001b[0m\u001b[0m\n\u001b[0;32m----> 5\u001b[0;31m \u001b[0mprint\u001b[0m\u001b[0;34m(\u001b[0m\u001b[0mq\u001b[0m\u001b[0;34m.\u001b[0m\u001b[0mget\u001b[0m\u001b[0;34m(\u001b[0m\u001b[0mtimeout\u001b[0m\u001b[0;34m=\u001b[0m\u001b[0;36m2\u001b[0m\u001b[0;34m)\u001b[0m\u001b[0;34m)\u001b[0m\u001b[0;34m\u001b[0m\u001b[0;34m\u001b[0m\u001b[0m\n\u001b[0m\u001b[1;32m      6\u001b[0m \u001b[0mprint\u001b[0m\u001b[0;34m(\u001b[0m\u001b[0;34m'Конец программы'\u001b[0m\u001b[0;34m)\u001b[0m\u001b[0;34m\u001b[0m\u001b[0;34m\u001b[0m\u001b[0m\n",
            "\u001b[0;32m/usr/lib/python3.10/queue.py\u001b[0m in \u001b[0;36mget\u001b[0;34m(self, block, timeout)\u001b[0m\n\u001b[1;32m    177\u001b[0m                     \u001b[0mremaining\u001b[0m \u001b[0;34m=\u001b[0m \u001b[0mendtime\u001b[0m \u001b[0;34m-\u001b[0m \u001b[0mtime\u001b[0m\u001b[0;34m(\u001b[0m\u001b[0;34m)\u001b[0m\u001b[0;34m\u001b[0m\u001b[0;34m\u001b[0m\u001b[0m\n\u001b[1;32m    178\u001b[0m                     \u001b[0;32mif\u001b[0m \u001b[0mremaining\u001b[0m \u001b[0;34m<=\u001b[0m \u001b[0;36m0.0\u001b[0m\u001b[0;34m:\u001b[0m\u001b[0;34m\u001b[0m\u001b[0;34m\u001b[0m\u001b[0m\n\u001b[0;32m--> 179\u001b[0;31m                         \u001b[0;32mraise\u001b[0m \u001b[0mEmpty\u001b[0m\u001b[0;34m\u001b[0m\u001b[0;34m\u001b[0m\u001b[0m\n\u001b[0m\u001b[1;32m    180\u001b[0m                     \u001b[0mself\u001b[0m\u001b[0;34m.\u001b[0m\u001b[0mnot_empty\u001b[0m\u001b[0;34m.\u001b[0m\u001b[0mwait\u001b[0m\u001b[0;34m(\u001b[0m\u001b[0mremaining\u001b[0m\u001b[0;34m)\u001b[0m\u001b[0;34m\u001b[0m\u001b[0;34m\u001b[0m\u001b[0m\n\u001b[1;32m    181\u001b[0m             \u001b[0mitem\u001b[0m \u001b[0;34m=\u001b[0m \u001b[0mself\u001b[0m\u001b[0;34m.\u001b[0m\u001b[0m_get\u001b[0m\u001b[0;34m(\u001b[0m\u001b[0;34m)\u001b[0m\u001b[0;34m\u001b[0m\u001b[0;34m\u001b[0m\u001b[0m\n",
            "\u001b[0;31mEmpty\u001b[0m: "
          ]
        }
      ]
    },
    {
      "cell_type": "code",
      "source": [
        "# Положим в очередь элемент\n",
        "q = Queue()\n",
        "q.put(5)\n",
        "print(q.get(timeout=2))\n",
        "print('Конец программы')"
      ],
      "metadata": {
        "colab": {
          "base_uri": "https://localhost:8080/"
        },
        "id": "L9OiEJlU6lle",
        "outputId": "ef062ae8-f34f-4962-e80b-6169d57d0c3e"
      },
      "execution_count": null,
      "outputs": [
        {
          "output_type": "stream",
          "name": "stdout",
          "text": [
            "5\n",
            "Конец программы\n"
          ]
        }
      ]
    },
    {
      "cell_type": "code",
      "source": [
        "# Теперь приступим к реадихации идеи очередей\n",
        "# Нужные библиотеки\n",
        "import time\n",
        "import threading\n",
        "from queue import Queue"
      ],
      "metadata": {
        "id": "a2X0odgO7VPh"
      },
      "execution_count": null,
      "outputs": []
    },
    {
      "cell_type": "code",
      "source": [
        "# Создадим функцию\n",
        "def quetter(queue):\n",
        "  while True:\n",
        "    time.sleep(5)\n",
        "    item = queue.get()\n",
        "    print(threading.current_thread(), 'взял', item)"
      ],
      "metadata": {
        "id": "L06bcOb_-h_L"
      },
      "execution_count": null,
      "outputs": []
    },
    {
      "cell_type": "code",
      "source": [
        "# Создадим очередь и поток\n",
        "q = Queue(maxsize=10)\n",
        "thread_1 = threading.Thread(target=quetter, args=(q, ), daemon=True)"
      ],
      "metadata": {
        "id": "BwhUiALINAIA"
      },
      "execution_count": null,
      "outputs": []
    },
    {
      "cell_type": "code",
      "source": [
        "thread_1.start()"
      ],
      "metadata": {
        "id": "1PT2dAvQN4t8"
      },
      "execution_count": null,
      "outputs": []
    },
    {
      "cell_type": "code",
      "source": [
        "for i in range(10):\n",
        "  time.sleep(2)\n",
        "  q.put(i)\n",
        "  print(threading.current_thread(), 'положил', i)"
      ],
      "metadata": {
        "colab": {
          "base_uri": "https://localhost:8080/"
        },
        "id": "wvCgclpfN9hr",
        "outputId": "4cbcfd6e-32d4-4c44-f792-0f9f6e8cd66f"
      },
      "execution_count": null,
      "outputs": [
        {
          "output_type": "stream",
          "name": "stdout",
          "text": [
            "<_MainThread(MainThread, started 132735819456512)> положил 0\n",
            "<Thread(Thread-15 (quetter), started daemon 132734453179968)> взял 0\n",
            "<_MainThread(MainThread, started 132735819456512)> положил 1\n",
            "<_MainThread(MainThread, started 132735819456512)> положил 2\n",
            "<Thread(Thread-15 (quetter), started daemon 132734453179968)> взял 1\n",
            "<_MainThread(MainThread, started 132735819456512)> положил 3\n",
            "<_MainThread(MainThread, started 132735819456512)> положил 4\n",
            "<_MainThread(MainThread, started 132735819456512)> положил 5\n",
            "<Thread(Thread-15 (quetter), started daemon 132734453179968)> взял 2\n",
            "<_MainThread(MainThread, started 132735819456512)> положил 6\n",
            "<_MainThread(MainThread, started 132735819456512)> положил 7\n",
            "<Thread(Thread-15 (quetter), started daemon 132734453179968)> взял 3\n",
            "<_MainThread(MainThread, started 132735819456512)> положил 8\n",
            "<_MainThread(MainThread, started 132735819456512)> положил 9\n"
          ]
        }
      ]
    }
  ]
}