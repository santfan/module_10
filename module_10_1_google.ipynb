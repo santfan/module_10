{
  "nbformat": 4,
  "nbformat_minor": 0,
  "metadata": {
    "colab": {
      "provenance": [],
      "collapsed_sections": [
        "1wFzU39nlTY6"
      ],
      "authorship_tag": "ABX9TyMuPZkYH+Y5+VpsfnzscLza",
      "include_colab_link": true
    },
    "kernelspec": {
      "name": "python3",
      "display_name": "Python 3"
    },
    "language_info": {
      "name": "python"
    }
  },
  "cells": [
    {
      "cell_type": "markdown",
      "metadata": {
        "id": "view-in-github",
        "colab_type": "text"
      },
      "source": [
        "<a href=\"https://colab.research.google.com/github/santfan/module_10/blob/main/module_10_1_google.ipynb\" target=\"_parent\"><img src=\"https://colab.research.google.com/assets/colab-badge.svg\" alt=\"Open In Colab\"/></a>"
      ]
    },
    {
      "cell_type": "markdown",
      "source": [
        "# Проработка лекции Введние в потоки\n"
      ],
      "metadata": {
        "id": "1wFzU39nlTY6"
      }
    },
    {
      "cell_type": "code",
      "execution_count": null,
      "metadata": {
        "id": "xBSslDBalHIB"
      },
      "outputs": [],
      "source": [
        "# Импорт библиотеки контроля потоков\n",
        "import threading"
      ]
    },
    {
      "cell_type": "code",
      "source": [
        "# Вывод информации о потоках\n",
        "print(threading.current_thread())"
      ],
      "metadata": {
        "colab": {
          "base_uri": "https://localhost:8080/"
        },
        "id": "gRlmQaJJlyba",
        "outputId": "650b5c97-5eb0-45a9-90b2-f61f65397db1"
      },
      "execution_count": null,
      "outputs": [
        {
          "output_type": "stream",
          "name": "stdout",
          "text": [
            "<_MainThread(MainThread, started 136574724554752)>\n"
          ]
        }
      ]
    },
    {
      "cell_type": "code",
      "source": [
        "# вывод спмска потоков\n",
        "print(threading.enumerate())"
      ],
      "metadata": {
        "colab": {
          "base_uri": "https://localhost:8080/"
        },
        "id": "Vg3vzucFmAO4",
        "outputId": "eb80e5cc-fae8-4fd3-c014-10c41f922fd1"
      },
      "execution_count": null,
      "outputs": [
        {
          "output_type": "stream",
          "name": "stdout",
          "text": [
            "[<_MainThread(MainThread, started 136574724554752)>, <Thread(Thread-2 (_thread_main), started daemon 136574560339520)>, <Heartbeat(Thread-3, started daemon 136574551946816)>, <ParentPollerUnix(Thread-1, started daemon 136574303626816)>, <Thread(_colab_inspector_thread, started daemon 136573970536000)>]\n"
          ]
        }
      ]
    },
    {
      "cell_type": "code",
      "source": [
        "# пусть у нас две функции которые вывводят числа из диапазона\n",
        "# импортируем библиотеку времени и напишем эти функции\n",
        "import time"
      ],
      "metadata": {
        "id": "Z33u1ETgmml0"
      },
      "execution_count": null,
      "outputs": []
    },
    {
      "cell_type": "code",
      "source": [
        "# Две функции\n",
        "def func_1():\n",
        "  for i in range(10):\n",
        "    print(i, threading.current_thread())\n",
        "    time.sleep(1)\n",
        "\n",
        "def func_2():\n",
        "  for j in range(10):\n",
        "    print(j, threading.current_thread())\n",
        "    time.sleep(1)"
      ],
      "metadata": {
        "id": "DEqFl5wCnlMp"
      },
      "execution_count": null,
      "outputs": []
    },
    {
      "cell_type": "code",
      "source": [
        "# Для создания доплнительного потока используют класс threading.Thread и указывают функцию для которой поток создан\n",
        "thread = threading.Thread(target=func_2)\n",
        "# Стартанем поток\n",
        "thread.start()\n",
        "# Вызовем функцию\n",
        "func_1()"
      ],
      "metadata": {
        "colab": {
          "base_uri": "https://localhost:8080/"
        },
        "id": "VLdJoYIYok_d",
        "outputId": "599c13d9-b7da-417b-97cd-09bb4ec58371"
      },
      "execution_count": null,
      "outputs": [
        {
          "output_type": "stream",
          "name": "stdout",
          "text": [
            "00 <_MainThread(MainThread, started 136574724554752)>\n",
            " <Thread(Thread-11 (func_2), started 136574283097664)>\n",
            "1 <_MainThread(MainThread, started 136574724554752)>\n",
            "1 <Thread(Thread-11 (func_2), started 136574283097664)>\n",
            "2 <_MainThread(MainThread, started 136574724554752)>\n",
            "2 <Thread(Thread-11 (func_2), started 136574283097664)>\n",
            "3 <_MainThread(MainThread, started 136574724554752)>\n",
            "3 <Thread(Thread-11 (func_2), started 136574283097664)>\n",
            "4 <_MainThread(MainThread, started 136574724554752)>\n",
            "4 <Thread(Thread-11 (func_2), started 136574283097664)>\n",
            "5 <_MainThread(MainThread, started 136574724554752)>\n",
            "5 <Thread(Thread-11 (func_2), started 136574283097664)>\n",
            "6 <_MainThread(MainThread, started 136574724554752)>\n",
            "6 <Thread(Thread-11 (func_2), started 136574283097664)>\n",
            "7 <_MainThread(MainThread, started 136574724554752)>\n",
            "7 <Thread(Thread-11 (func_2), started 136574283097664)>\n",
            "8 <_MainThread(MainThread, started 136574724554752)>\n",
            "8 <Thread(Thread-11 (func_2), started 136574283097664)>\n",
            "9 <_MainThread(MainThread, started 136574724554752)>\n",
            "9 <Thread(Thread-11 (func_2), started 136574283097664)>\n"
          ]
        }
      ]
    },
    {
      "cell_type": "code",
      "source": [
        "# Для определения сузествования потока использую фукцию is_alive()\n",
        "# Две функции\n",
        "def func_1():\n",
        "  for i in range(10):\n",
        "    print(i, threading.current_thread())\n",
        "    time.sleep(1)\n",
        "\n",
        "def func_2():\n",
        "  for j in range(10):\n",
        "    print(j, threading.current_thread().is_alive())\n",
        "    time.sleep(1)"
      ],
      "metadata": {
        "id": "qNmygoGDqW0F"
      },
      "execution_count": null,
      "outputs": []
    },
    {
      "cell_type": "code",
      "source": [
        "thread = threading.Thread(target=func_2)\n",
        "# Стартанем поток\n",
        "thread.start()\n",
        "# Вызовем функцию\n",
        "func_1()"
      ],
      "metadata": {
        "colab": {
          "base_uri": "https://localhost:8080/"
        },
        "id": "QT0BUoaesLOm",
        "outputId": "8f6600bf-e034-4edf-d13e-dccdb72ee7a9"
      },
      "execution_count": null,
      "outputs": [
        {
          "output_type": "stream",
          "name": "stdout",
          "text": [
            "00 True\n",
            " <_MainThread(MainThread, started 136574724554752)>\n",
            "1 <_MainThread(MainThread, started 136574724554752)>\n",
            "1 True\n",
            "22 True\n",
            " <_MainThread(MainThread, started 136574724554752)>\n",
            "33 <_MainThread(MainThread, started 136574724554752)>\n",
            " True\n",
            "44 True\n",
            " <_MainThread(MainThread, started 136574724554752)>\n",
            "5 True\n",
            "5 <_MainThread(MainThread, started 136574724554752)>\n",
            "6 <_MainThread(MainThread, started 136574724554752)>\n",
            "6 True\n",
            "77 True\n",
            " <_MainThread(MainThread, started 136574724554752)>\n",
            "88 <_MainThread(MainThread, started 136574724554752)>\n",
            " True\n",
            "99 True\n",
            " <_MainThread(MainThread, started 136574724554752)>\n"
          ]
        }
      ]
    },
    {
      "cell_type": "code",
      "source": [
        "# Для приостановки основного потока используют функцию join()\n",
        "thread = threading.Thread(target=func_2)\n",
        "# Стартанем поток\n",
        "thread.start()\n",
        "thread.join()\n",
        "print(threading.current_thread().is_alive())\n",
        "# Вызовем функцию\n",
        "func_1()"
      ],
      "metadata": {
        "colab": {
          "base_uri": "https://localhost:8080/"
        },
        "id": "GbNP3OW3sQMt",
        "outputId": "af1c35ee-98f3-4436-ee55-a4f06735a20f"
      },
      "execution_count": null,
      "outputs": [
        {
          "output_type": "stream",
          "name": "stdout",
          "text": [
            "0 True\n",
            "1 True\n",
            "2 True\n",
            "3 True\n",
            "4 True\n",
            "5 True\n",
            "6 True\n",
            "7 True\n",
            "8 True\n",
            "9 True\n",
            "True\n",
            "0 <_MainThread(MainThread, started 136574724554752)>\n",
            "1 <_MainThread(MainThread, started 136574724554752)>\n",
            "2 <_MainThread(MainThread, started 136574724554752)>\n",
            "3 <_MainThread(MainThread, started 136574724554752)>\n",
            "4 <_MainThread(MainThread, started 136574724554752)>\n",
            "5 <_MainThread(MainThread, started 136574724554752)>\n",
            "6 <_MainThread(MainThread, started 136574724554752)>\n",
            "7 <_MainThread(MainThread, started 136574724554752)>\n",
            "8 <_MainThread(MainThread, started 136574724554752)>\n",
            "9 <_MainThread(MainThread, started 136574724554752)>\n"
          ]
        }
      ]
    },
    {
      "cell_type": "code",
      "source": [
        "# Потоки демоны завершают работу в тот момент когда завершился основной поток даже если у него остались задания\n",
        "# Поток демон создают так\n",
        "# Для определения сузествования потока использую фукцию is_alive()\n",
        "# Две функции\n",
        "def func_1():\n",
        "  for i in range(10):\n",
        "    print(i, threading.current_thread())\n",
        "    # Сделаем эту функцию быстрее\n",
        "    time.sleep(0.5)\n",
        "\n",
        "def func_2(x):\n",
        "  for j in range(10):\n",
        "    print(j, threading.current_thread())\n",
        "    time.sleep(1)"
      ],
      "metadata": {
        "id": "o_Fb_E9cte6Q"
      },
      "execution_count": null,
      "outputs": []
    },
    {
      "cell_type": "code",
      "source": [
        "# Для содания потока демона\n",
        "thread = threading.Thread(target=func_2, args=(1, ), daemon=True)\n",
        "# Стартанем поток\n",
        "thread.start()\n",
        "# Вызовем функцию\n",
        "func_1()"
      ],
      "metadata": {
        "colab": {
          "base_uri": "https://localhost:8080/"
        },
        "id": "PZsYbp1Bu-om",
        "outputId": "1109982b-ec3f-44b7-b35f-bcd3ee191b5a"
      },
      "execution_count": null,
      "outputs": [
        {
          "output_type": "stream",
          "name": "stdout",
          "text": [
            "0 <Thread(Thread-16 (func_2), started daemon 136574283097664)>\n",
            "0 <_MainThread(MainThread, started 136574724554752)>\n",
            "1 <_MainThread(MainThread, started 136574724554752)>\n",
            "1 <Thread(Thread-16 (func_2), started daemon 136574283097664)>\n",
            "2 <_MainThread(MainThread, started 136574724554752)>\n",
            "3 <_MainThread(MainThread, started 136574724554752)>\n",
            "2 <Thread(Thread-16 (func_2), started daemon 136574283097664)>\n",
            "4 <_MainThread(MainThread, started 136574724554752)>\n",
            "5 <_MainThread(MainThread, started 136574724554752)>\n",
            "3 <Thread(Thread-16 (func_2), started daemon 136574283097664)>\n",
            "6 <_MainThread(MainThread, started 136574724554752)>\n",
            "7 <_MainThread(MainThread, started 136574724554752)>\n",
            "4 <Thread(Thread-16 (func_2), started daemon 136574283097664)>\n",
            "8 <_MainThread(MainThread, started 136574724554752)>\n",
            "9 <_MainThread(MainThread, started 136574724554752)>\n",
            "5 <Thread(Thread-16 (func_2), started daemon 136574283097664)>\n"
          ]
        }
      ]
    },
    {
      "cell_type": "markdown",
      "source": [
        "# Домашняя рабта \"Потоковая запись в файл"
      ],
      "metadata": {
        "id": "n26BvbaKybI2"
      }
    },
    {
      "cell_type": "code",
      "source": [
        "# Необходимые библиотеки\n",
        "import threading\n",
        "from time import sleep\n",
        "from datetime import datetime"
      ],
      "metadata": {
        "id": "gqxRWp6wvmO8"
      },
      "execution_count": null,
      "outputs": []
    },
    {
      "cell_type": "code",
      "source": [
        "# Функция записи в файл\n",
        "def write_words(word_count, file_name):\n",
        "  with open(file_name, 'w') as file:\n",
        "    for num in range(1, word_count + 1):\n",
        "      file.write(f'Какое то слово № {num}' + '\\n')\n",
        "      sleep(0.1)\n",
        "    print(f'Завершилась запись в файл {file_name}')"
      ],
      "metadata": {
        "id": "JOKGEvVq0tDN"
      },
      "execution_count": null,
      "outputs": []
    },
    {
      "cell_type": "code",
      "source": [
        "started_at_func = datetime.now()\n",
        "write_words(10, 'example1.txt')\n",
        "write_words(30, 'example2.txt')\n",
        "write_words(200, 'example3.txt')\n",
        "write_words(100, 'example4.txt')\n",
        "ended_at_func = datetime.now()\n",
        "func_time = ended_at_func - started_at_func\n",
        "print(f'Функция отрабтала {func_time}')"
      ],
      "metadata": {
        "colab": {
          "base_uri": "https://localhost:8080/"
        },
        "id": "JyVzpb9649jD",
        "outputId": "f6c37552-e93c-4bd4-ebc3-1a3317d57815"
      },
      "execution_count": null,
      "outputs": [
        {
          "output_type": "stream",
          "name": "stdout",
          "text": [
            "Завершилась запись в файл example1.txt\n",
            "Завершилась запись в файл example2.txt\n",
            "Завершилась запись в файл example3.txt\n",
            "Завершилась запись в файл example4.txt\n",
            "Функция отрабтала 0:00:34.075649\n"
          ]
        }
      ]
    },
    {
      "cell_type": "code",
      "source": [
        "started_at_flow = datetime.now()\n",
        "\n",
        "thread_1 = threading.Thread(target = write_words, args = (10, 'example5.txt'))\n",
        "thread_2 = threading.Thread(target = write_words, args = (30, 'example6.txt'))\n",
        "thread_3 = threading.Thread(target = write_words, args = (200, 'example7.txt'))\n",
        "thread_4 = threading.Thread(target = write_words, args = (100, 'example8.txt'))\n",
        "\n",
        "thread_1.start()\n",
        "thread_2.start()\n",
        "thread_3.start()\n",
        "thread_4.start()\n",
        "\n",
        "thread_1.join()\n",
        "thread_2.join()\n",
        "thread_3.join()\n",
        "thread_4.join()\n",
        "\n",
        "ended_at_flow = datetime.now()\n",
        "flow_time = ended_at_flow - started_at_flow\n",
        "print(f'Время выполнения потоков {flow_time}')"
      ],
      "metadata": {
        "colab": {
          "base_uri": "https://localhost:8080/"
        },
        "id": "O3eLwQTh5WTb",
        "outputId": "37db4d99-0751-4b41-bb3e-cda6cfc798cf"
      },
      "execution_count": null,
      "outputs": [
        {
          "output_type": "stream",
          "name": "stdout",
          "text": [
            "Завершилась запись в файл example5.txt\n",
            "Завершилась запись в файл example6.txt\n",
            "Завершилась запись в файл example8.txt\n",
            "Завершилась запись в файл example7.txt\n",
            "Время выполнения потоков 0:00:20.047041\n"
          ]
        }
      ]
    },
    {
      "cell_type": "code",
      "source": [
        "print(f'Выигрыш времени составил {func_time - flow_time}')"
      ],
      "metadata": {
        "colab": {
          "base_uri": "https://localhost:8080/"
        },
        "id": "opAbDCE5GvQ1",
        "outputId": "f0fd0aad-0fb3-4087-90f7-f4f881eddbe3"
      },
      "execution_count": null,
      "outputs": [
        {
          "output_type": "stream",
          "name": "stdout",
          "text": [
            "Выигрыш времени составил 0:00:14.028608\n"
          ]
        }
      ]
    },
    {
      "cell_type": "code",
      "source": [],
      "metadata": {
        "id": "_YNwO1JFKHrh"
      },
      "execution_count": null,
      "outputs": []
    }
  ]
}