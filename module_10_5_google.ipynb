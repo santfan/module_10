{
  "nbformat": 4,
  "nbformat_minor": 0,
  "metadata": {
    "colab": {
      "provenance": [],
      "authorship_tag": "ABX9TyMU0t3S6IovcaW0Z8mFywAy",
      "include_colab_link": true
    },
    "kernelspec": {
      "name": "python3",
      "display_name": "Python 3"
    },
    "language_info": {
      "name": "python"
    }
  },
  "cells": [
    {
      "cell_type": "markdown",
      "metadata": {
        "id": "view-in-github",
        "colab_type": "text"
      },
      "source": [
        "<a href=\"https://colab.research.google.com/github/santfan/module_10/blob/main/module_10_5_google.ipynb\" target=\"_parent\"><img src=\"https://colab.research.google.com/assets/colab-badge.svg\" alt=\"Open In Colab\"/></a>"
      ]
    },
    {
      "cell_type": "code",
      "execution_count": 1,
      "metadata": {
        "id": "F4qJqUz2SjG6"
      },
      "outputs": [],
      "source": [
        "# Загрузим необходимые библиотеки\n",
        "import datetime\n",
        "import os\n",
        "import multiprocessing"
      ]
    },
    {
      "cell_type": "code",
      "source": [
        "# Сформируем список файлов\n",
        "list_files = [file for file in os.listdir() if file.endswith('.txt')]"
      ],
      "metadata": {
        "id": "Q3lKDK1XS-7_"
      },
      "execution_count": 2,
      "outputs": []
    },
    {
      "cell_type": "code",
      "source": [
        "# Объявим функцию\n",
        "def read_info(name):\n",
        "    # файл хранения чтения файлов построчно\n",
        "    all_data = []\n",
        "    # Откроем файл для чтения\n",
        "    with open(name, 'r', encoding='utf-8') as file:\n",
        "        while True:\n",
        "            # Прочитаем\n",
        "            line = file.readline()\n",
        "            for line in file:\n",
        "                # положим строку в итоговый файл\n",
        "                all_data.append(line)\n",
        "            # Если строка пустая прекращаем\n",
        "            if line == '':\n",
        "                break"
      ],
      "metadata": {
        "id": "1HsfeKeOUvth"
      },
      "execution_count": 3,
      "outputs": []
    },
    {
      "cell_type": "code",
      "source": [
        "# Замер времени линейного чтения\n",
        "start_l = datetime.datetime.now()\n",
        "\n",
        "for files in list_files:\n",
        "    read_info(files)\n",
        "\n",
        "end_l = datetime.datetime.now()\n",
        "print(f'Время затраченое линейным способом {end_l - start_l}')"
      ],
      "metadata": {
        "colab": {
          "base_uri": "https://localhost:8080/"
        },
        "id": "4Y-gnT8IU36G",
        "outputId": "e8a86ecd-c033-443b-c3ea-53c9d157665a"
      },
      "execution_count": 4,
      "outputs": [
        {
          "output_type": "stream",
          "name": "stdout",
          "text": [
            "Время затраченое линейным способом 0:00:06.670657\n"
          ]
        }
      ]
    },
    {
      "cell_type": "code",
      "source": [
        "# # Замер времени мультипроцессорного чтения\n",
        "\n",
        "start_m = datetime.datetime.now()\n",
        "\n",
        "# Запустим мультипроцессорное чтение\n",
        "# Наиболее оптимольное значение процессоров равно 9\n",
        "# Все остальные значения процессоров показывают худшие результаты\n",
        "with multiprocessing.Pool(processes=9) as pool:\n",
        "    result = pool.map(read_info, list_files)\n",
        "\n",
        "end_m = datetime.datetime.now()\n",
        "print(f'Время затраченое мультипроцессорным способом {end_m - start_m}')\n"
      ],
      "metadata": {
        "colab": {
          "base_uri": "https://localhost:8080/"
        },
        "id": "7Lv7-_LVVE5Q",
        "outputId": "b382e6bb-e2f4-451e-c700-84c964ae8e51"
      },
      "execution_count": 17,
      "outputs": [
        {
          "output_type": "stream",
          "name": "stdout",
          "text": [
            "Время затраченое мультипроцессорным способом 0:00:04.915228\n"
          ]
        }
      ]
    },
    {
      "cell_type": "code",
      "source": [],
      "metadata": {
        "id": "29reRHhrVgMv"
      },
      "execution_count": null,
      "outputs": []
    }
  ]
}